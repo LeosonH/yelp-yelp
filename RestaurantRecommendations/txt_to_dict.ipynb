{
 "cells": [
  {
   "cell_type": "markdown",
   "metadata": {},
   "source": [
    "## .txt file to Gensim dictionary/corpus converter\n",
    "### Converts .txt output from create_vector.py and create_corpus.py into gensim dictionary and corpus objects.\n",
    "### Author(s): Nancy, Leoson"
   ]
  },
  {
   "cell_type": "code",
   "execution_count": 1,
   "metadata": {},
   "outputs": [],
   "source": [
    "import pandas as pd\n",
    "from gensim import corpora, models"
   ]
  },
  {
   "cell_type": "code",
   "execution_count": 18,
   "metadata": {},
   "outputs": [],
   "source": [
    "# parse tab delimited dictionary\n",
    "import ast\n",
    "with open(\"dict.txt\", \"r\") as words:  \n",
    "    for line in words:\n",
    "        l = line.split(\"\\t\")\n",
    "        bag_words = ast.literal_eval(l[1])"
   ]
  },
  {
   "cell_type": "code",
   "execution_count": 20,
   "metadata": {},
   "outputs": [],
   "source": [
    "dictionary = corpora.Dictionary(bag_words)"
   ]
  },
  {
   "cell_type": "code",
   "execution_count": 21,
   "metadata": {},
   "outputs": [],
   "source": [
    "# save dictionary\n",
    "dictionary.save('reviews_dictionary.dict')"
   ]
  },
  {
   "cell_type": "code",
   "execution_count": 44,
   "metadata": {},
   "outputs": [],
   "source": [
    "# parse tab delimited corpus\n",
    "with open(\"corpus.txt\", \"r\") as words:  \n",
    "    for line in words:\n",
    "        l = line.split(\"\\t\")\n",
    "        corpus = ast.literal_eval(l[1])"
   ]
  },
  {
   "cell_type": "code",
   "execution_count": 56,
   "metadata": {},
   "outputs": [],
   "source": [
    "# save corpus\n",
    "corpora.MmCorpus.serialize(\"reviews_corpus.mm\", corpus)"
   ]
  },
  {
   "cell_type": "code",
   "execution_count": 57,
   "metadata": {},
   "outputs": [],
   "source": [
    "# load dictionary\n",
    "dict = corpora.Dictionary.load('reviews_dictionary.dict')"
   ]
  },
  {
   "cell_type": "code",
   "execution_count": 58,
   "metadata": {},
   "outputs": [],
   "source": [
    "# load corpus\n",
    "corpus = corpora.MmCorpus('reviews_corpus.mm')"
   ]
  },
  {
   "cell_type": "code",
   "execution_count": 59,
   "metadata": {},
   "outputs": [],
   "source": [
    "# test LSI model\n",
    "lsi = models.LsiModel(corpus, id2word = dict, num_topics = 2)"
   ]
  }
 ],
 "metadata": {
  "kernelspec": {
   "display_name": "Python 3",
   "language": "python",
   "name": "python3"
  },
  "language_info": {
   "codemirror_mode": {
    "name": "ipython",
    "version": 3
   },
   "file_extension": ".py",
   "mimetype": "text/x-python",
   "name": "python",
   "nbconvert_exporter": "python",
   "pygments_lexer": "ipython3",
   "version": "3.6.4"
  }
 },
 "nbformat": 4,
 "nbformat_minor": 2
}
