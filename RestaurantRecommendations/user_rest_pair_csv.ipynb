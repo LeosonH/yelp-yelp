{
 "cells": [
  {
   "cell_type": "markdown",
   "metadata": {},
   "source": [
    "## Text to CSV \n",
    "### Converts text output from find_user_rest_pair.py into csv form.\n",
    "\n",
    "### Author: Nancy"
   ]
  },
  {
   "cell_type": "code",
   "execution_count": 1,
   "metadata": {},
   "outputs": [],
   "source": [
    "import pandas as pd \n",
    "import ast\n",
    "\n",
    "df = pd.read_csv('user_rest_pair2.txt',sep = \"\\t\", header = None)\n",
    "df.columns = [\"info\", \"vec\"]\n",
    "# get rid of symbols\n",
    "df.loc[:,'info'] = df.loc[:,'info'].apply(lambda x: ast.literal_eval(x))\n",
    "df[['user','rest','la','lon']] = pd.DataFrame(df['info'].values.tolist(), index= df.index)\n",
    "df = df.drop('info', axis = 1)\n",
    "# preserve needed variables for next step (compute_unique_restaurants.py)\n",
    "df = df[[\"user\", \"rest\", \"la\", \"lon\", \"vec\"]]"
   ]
  },
  {
   "cell_type": "code",
   "execution_count": 4,
   "metadata": {},
   "outputs": [],
   "source": [
    "df.to_csv('user_rest_pair.csv', sep = \"|\")"
   ]
  }
 ],
 "metadata": {
  "kernelspec": {
   "display_name": "Python 3",
   "language": "python",
   "name": "python3"
  },
  "language_info": {
   "codemirror_mode": {
    "name": "ipython",
    "version": 3
   },
   "file_extension": ".py",
   "mimetype": "text/x-python",
   "name": "python",
   "nbconvert_exporter": "python",
   "pygments_lexer": "ipython3",
   "version": "3.6.4"
  }
 },
 "nbformat": 4,
 "nbformat_minor": 2
}
